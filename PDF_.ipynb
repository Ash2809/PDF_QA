{
 "cells": [
  {
   "cell_type": "code",
   "execution_count": 35,
   "id": "0e03cc61-4527-4f0c-ba6e-ef162f08e7bd",
   "metadata": {},
   "outputs": [],
   "source": [
    "from langchain.vectorstores import Cassandra\n",
    "from langchain.indexes.vectorstore import VectorStoreIndexWrapper\n",
    "from langchain.embeddings import HuggingFaceEmbeddings\n",
    "from langchain.text_splitter import CharacterTextSplitter\n",
    "from huggingface_hub import login\n",
    "from langchain.llms import CTransformers\n",
    "import transformers\n",
    "import torch\n",
    "import cassio\n",
    "from PyPDF2 import PdfReader"
   ]
  },
  {
   "cell_type": "code",
   "execution_count": 14,
   "id": "a1631f70-a430-4fcf-b098-397dd1fd3151",
   "metadata": {},
   "outputs": [],
   "source": [
    "model_path = r\"C:\\Users\\aashutosh kumar\\Downloads\\llama-2-7b-chat.ggmlv3.q4_0.bin\""
   ]
  },
  {
   "cell_type": "code",
   "execution_count": 15,
   "id": "ef2d726c-2a5b-4a32-abdd-701adffad265",
   "metadata": {},
   "outputs": [],
   "source": [
    "llm=CTransformers(\n",
    "    model=model_path,\n",
    "    model_type=\"llama\",\n",
    "    config={\"max_new_tokens\":512,\"temperature\":0.6}\n",
    ")"
   ]
  },
  {
   "cell_type": "code",
   "execution_count": 16,
   "id": "1b6d25bb-f600-4b86-b6b2-1673948d05cf",
   "metadata": {},
   "outputs": [],
   "source": [
    "API_TOKEN = \"AstraCS:MPDZYyOdRfEaSzcFqsgcCmdP:84eccfe56b5276b19cb7bc9e6957afaa820b368fdbc12898f0e55e416420f195\"\n",
    "DB_ID = \"b7ae110c-da22-420f-b917-7c91c2055503\""
   ]
  },
  {
   "cell_type": "code",
   "execution_count": 21,
   "id": "1bf264d1-ab81-43bf-8547-597ffb22cb80",
   "metadata": {},
   "outputs": [],
   "source": [
    "file = r\"C:\\Users\\aashutosh kumar\\Downloads\\budget_speech.pdf\"\n",
    "\n",
    "pdf_reader = PdfReader(file)"
   ]
  },
  {
   "cell_type": "code",
   "execution_count": 22,
   "id": "b264ee55-f797-419b-a64f-1a6e9eeda87b",
   "metadata": {},
   "outputs": [],
   "source": [
    "from typing_extensions import Concatenate\n",
    "\n",
    "raw_text = \" \"\n",
    "for i,page in enumerate(pdf_reader.pages):\n",
    "    content = page.extract_text()\n",
    "    if content:\n",
    "        raw_text += content"
   ]
  },
  {
   "cell_type": "code",
   "execution_count": 26,
   "id": "9eada57d-eb0b-4968-a512-3c6ebb878c82",
   "metadata": {},
   "outputs": [],
   "source": [
    "cassio.init(token = API_TOKEN,database_id = DB_ID)"
   ]
  },
  {
   "cell_type": "raw",
   "id": "4a36b9d3-fee4-473c-a27b-51c3e04f434a",
   "metadata": {},
   "source": []
  },
  {
   "cell_type": "code",
   "execution_count": 29,
   "id": "17cac08f-ad0f-4679-b139-a45b30a62dfe",
   "metadata": {},
   "outputs": [],
   "source": [
    "def download_hugging_face_embeddings():\n",
    "    embeddings = HuggingFaceEmbeddings(model_name=\"sentence-transformers/all-MiniLM-L6-v2\")\n",
    "    return embeddings\n",
    "embeddings = download_hugging_face_embeddings()"
   ]
  },
  {
   "cell_type": "code",
   "execution_count": 36,
   "id": "9c655a96-7ed5-4219-87bc-dea53b8a42c2",
   "metadata": {},
   "outputs": [],
   "source": [
    "vector_store = Cassandra(embedding = embeddings,\n",
    "                         table_name = \"qa_PDF\",\n",
    "                         session = None,\n",
    "                         keyspace = None)"
   ]
  },
  {
   "cell_type": "code",
   "execution_count": 38,
   "id": "357f9f3b-b896-476f-999f-38f05ad284dc",
   "metadata": {},
   "outputs": [],
   "source": [
    "text_splitter = CharacterTextSplitter(separator = \"\\n\",\n",
    "                                    chunk_size = 800,\n",
    "                                     chunk_overlap = 200,\n",
    "                                     length_function = len\n",
    "                                     )"
   ]
  },
  {
   "cell_type": "code",
   "execution_count": 39,
   "id": "63241d90-43f3-4a5b-936f-9cda70c4fb19",
   "metadata": {},
   "outputs": [],
   "source": [
    "text = text_splitter.split_text(raw_text)"
   ]
  },
  {
   "cell_type": "code",
   "execution_count": 40,
   "id": "8f787fb4-e086-49f5-8942-aace61598a0c",
   "metadata": {},
   "outputs": [
    {
     "name": "stdout",
     "output_type": "stream",
     "text": [
      "inserted all the text\n"
     ]
    }
   ],
   "source": [
    "vector_store.add_texts(text)\n",
    "print(\"inserted all the text\")\n",
    "vector_index = VectorStoreIndexWrapper(vectorstore = vector_store)"
   ]
  },
  {
   "cell_type": "code",
   "execution_count": 43,
   "id": "f2934c3c-6be5-478f-a455-d0910e74d03b",
   "metadata": {},
   "outputs": [],
   "source": [
    "query = \"What is Atmanirbhar Oil Seeds Abhiyan ?\"\n",
    "answer = vector_index.query(question = query, llm = llm)"
   ]
  },
  {
   "cell_type": "code",
   "execution_count": 44,
   "id": "e323ede5-c3c0-41d8-a3d0-6968097e6f82",
   "metadata": {},
   "outputs": [
    {
     "name": "stdout",
     "output_type": "stream",
     "text": [
      " \n",
      "Answer:  Not Helpful resources: \n",
      "\n",
      "\n",
      "Whats? Yes or not helpful helpful helpful helpful resources : $4450 \n",
      "\n",
      "The Prime Minister has been doubled \n",
      "\n"
     ]
    }
   ],
   "source": [
    "print(answer)"
   ]
  },
  {
   "cell_type": "code",
   "execution_count": null,
   "id": "2361ee33-4194-45f9-ad09-9a47ed4c412c",
   "metadata": {},
   "outputs": [],
   "source": []
  }
 ],
 "metadata": {
  "kernelspec": {
   "display_name": "Python 3 (ipykernel)",
   "language": "python",
   "name": "python3"
  },
  "language_info": {
   "codemirror_mode": {
    "name": "ipython",
    "version": 3
   },
   "file_extension": ".py",
   "mimetype": "text/x-python",
   "name": "python",
   "nbconvert_exporter": "python",
   "pygments_lexer": "ipython3",
   "version": "3.9.19"
  }
 },
 "nbformat": 4,
 "nbformat_minor": 5
}
